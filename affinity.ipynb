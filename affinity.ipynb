{
 "cells": [
  {
   "cell_type": "code",
   "execution_count": 68,
   "metadata": {},
   "outputs": [],
   "source": [
    "import numpy as np\n",
    "from engineering_notation import EngNumber\n"
   ]
  },
  {
   "cell_type": "markdown",
   "metadata": {},
   "source": [
    "## Single site\n",
    "$$ \n",
    "Kd = {[A][B] \\over [AB]} \n",
    "$$ \n",
    "$$\n",
    "[AB] = {[B_{initial}] * [A] \\over Kd + [A]} \n",
    "$$\n",
    "Concentration of $A is far superior \n",
    "$$ x+y=z $$"
   ]
  },
  {
   "cell_type": "code",
   "execution_count": 84,
   "metadata": {},
   "outputs": [
    {
     "name": "stdout",
     "output_type": "stream",
     "text": [
      "this work only under the assumption that The concentration of A is so >> to B that Ainitial and Afree are basically the same this is not the case here\n",
      "Complex concentration = 1.96nM\n",
      "2.0% of B in complex\n"
     ]
    }
   ],
   "source": [
    "Kd = 1E-6\n",
    "A0 = 20E-9 # ligand\n",
    "B0 = 100E-9 # not ligand\n",
    "\n",
    "if not A0 > B0*100:\n",
    "    print (\"this work only under the assumption that The concentration of A is so >> \\\n",
    "to B that Ainitial and Afree are basically the same this is not the case here\")\n",
    "    \n",
    "Afree = A0\n",
    "AB = ( B0* Afree ) / ( Kd + Afree )  \n",
    "print(f\"Complex concentration = {EngNumber(AB)}M\")\n",
    "print(f\"{(AB/B0)*100:.1f}% of B in complex\")\n"
   ]
  },
  {
   "cell_type": "markdown",
   "metadata": {},
   "source": [
    "## Multiple sites"
   ]
  },
  {
   "cell_type": "markdown",
   "metadata": {},
   "source": [
    "### Independant"
   ]
  },
  {
   "cell_type": "code",
   "execution_count": 88,
   "metadata": {},
   "outputs": [
    {
     "name": "stdout",
     "output_type": "stream",
     "text": [
      "this work only under the assumption that The concentration of A is so >> to B that Ainitial and Afree are basically the same this is not the case here\n",
      "Complex concentration = 90.91nM\n",
      "90.9% of sites in occupied\n"
     ]
    }
   ],
   "source": [
    "Kd = 1E-6\n",
    "A0 = 10E-6 # ligand\n",
    "B0 = 100E-9 # not ligand\n",
    "nB = 8 # number of site B\n",
    "\n",
    "if not A0 > nB*B0*100:\n",
    "    print (\"this work only under the assumption that The concentration of A is so >> \\\n",
    "to B that Ainitial and Afree are basically the same this is not the case here\")\n",
    "    \n",
    "Afree = A0\n",
    "AB= (( nB*B0 * Afree ) / ( Kd + Afree )) / nB\n",
    "print(f\"Complex concentration = {EngNumber(AB)}M\")\n",
    "print(f\"{(AB/B0)*100:.1f}% of sites in occupied\")"
   ]
  },
  {
   "cell_type": "markdown",
   "metadata": {},
   "source": [
    "### Linked sites\n",
    "#### 2 indentical, linked sites"
   ]
  },
  {
   "cell_type": "code",
   "execution_count": null,
   "metadata": {},
   "outputs": [],
   "source": [
    "Kd = 1E-6\n",
    "A0 = 10E-6 # ligand\n",
    "A0_2 =  10E-6\n",
    "B0 = 100E-9 # not ligand\n",
    "nB = 8 # number of site B\n",
    "\n",
    "if not A0 > nB*B0*100:\n",
    "    print (\"this work only under the assumption that The concentration of A is so >> \\\n",
    "to B that Ainitial and Afree are basically the same this is not the case here\")\n",
    "    \n",
    "Afree = A0\n",
    "AB= (( nB*B0 * Afree ) / ( Kd + Afree )) / nB\n",
    "print(f\"Complex concentration = {EngNumber(AB)}M\")\n",
    "print(f\"{(AB/B0)*100:.1f}% of sites in occupied\")"
   ]
  }
 ],
 "metadata": {
  "kernelspec": {
   "display_name": "Python 3",
   "language": "python",
   "name": "python3"
  },
  "language_info": {
   "codemirror_mode": {
    "name": "ipython",
    "version": 3
   },
   "file_extension": ".py",
   "mimetype": "text/x-python",
   "name": "python",
   "nbconvert_exporter": "python",
   "pygments_lexer": "ipython3",
   "version": "3.12.0"
  }
 },
 "nbformat": 4,
 "nbformat_minor": 2
}
